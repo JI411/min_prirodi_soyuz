{
  "nbformat": 4,
  "nbformat_minor": 0,
  "metadata": {
    "colab": {
      "name": "princess.ipynb",
      "provenance": [],
      "collapsed_sections": [],
      "authorship_tag": "ABX9TyMrSi10Bd7spmkMq09qLAwB",
      "include_colab_link": true
    },
    "kernelspec": {
      "name": "python3",
      "display_name": "Python 3"
    },
    "language_info": {
      "name": "python"
    },
    "accelerator": "GPU"
  },
  "cells": [
    {
      "cell_type": "markdown",
      "metadata": {
        "id": "view-in-github",
        "colab_type": "text"
      },
      "source": [
        "<a href=\"https://colab.research.google.com/github/JI411/min_prirodi_soyuz/blob/main/princess.ipynb\" target=\"_parent\"><img src=\"https://colab.research.google.com/assets/colab-badge.svg\" alt=\"Open In Colab\"/></a>"
      ]
    },
    {
      "cell_type": "markdown",
      "metadata": {
        "id": "mZl8Y8LuT7QJ"
      },
      "source": [
        "# Скрипт для второго задания"
      ]
    },
    {
      "cell_type": "markdown",
      "metadata": {
        "id": "DrqiLogxUBjE"
      },
      "source": [
        "## Загружаем данные и модель, делаем импорты"
      ]
    },
    {
      "cell_type": "code",
      "metadata": {
        "id": "yyyJil6yPyX2",
        "colab": {
          "base_uri": "https://localhost:8080/"
        },
        "outputId": "48a6d818-b01f-4e7e-c498-6fae9495a3ea"
      },
      "source": [
        "!nvidia-smi"
      ],
      "execution_count": 1,
      "outputs": [
        {
          "output_type": "stream",
          "name": "stdout",
          "text": [
            "Thu Dec  2 16:22:24 2021       \n",
            "+-----------------------------------------------------------------------------+\n",
            "| NVIDIA-SMI 495.44       Driver Version: 460.32.03    CUDA Version: 11.2     |\n",
            "|-------------------------------+----------------------+----------------------+\n",
            "| GPU  Name        Persistence-M| Bus-Id        Disp.A | Volatile Uncorr. ECC |\n",
            "| Fan  Temp  Perf  Pwr:Usage/Cap|         Memory-Usage | GPU-Util  Compute M. |\n",
            "|                               |                      |               MIG M. |\n",
            "|===============================+======================+======================|\n",
            "|   0  Tesla K80           Off  | 00000000:00:04.0 Off |                    0 |\n",
            "| N/A   35C    P8    27W / 149W |      0MiB / 11441MiB |      0%      Default |\n",
            "|                               |                      |                  N/A |\n",
            "+-------------------------------+----------------------+----------------------+\n",
            "                                                                               \n",
            "+-----------------------------------------------------------------------------+\n",
            "| Processes:                                                                  |\n",
            "|  GPU   GI   CI        PID   Type   Process name                  GPU Memory |\n",
            "|        ID   ID                                                   Usage      |\n",
            "|=============================================================================|\n",
            "|  No running processes found                                                 |\n",
            "+-----------------------------------------------------------------------------+\n"
          ]
        }
      ]
    },
    {
      "cell_type": "code",
      "metadata": {
        "id": "kWaxWs3HSgSS"
      },
      "source": [
        "%%capture\n",
        "!pip install gdown\n",
        "!gdown --id 1BIdGch53zM5styGP9KFBvUS53yTNgIZ8  # https://drive.google.com/file/d/1BIdGch53zM5styGP9KFBvUS53yTNgIZ8/view\n",
        "!gdown --id 1JJyEalh0oPLowHkQIykCK2ctETEOEzjG  # https://drive.google.com/file/d/1JJyEalh0oPLowHkQIykCK2ctETEOEzjG/view\n",
        "!unzip sample.zip"
      ],
      "execution_count": 2,
      "outputs": []
    },
    {
      "cell_type": "code",
      "metadata": {
        "id": "MHrp15TsT5v1"
      },
      "source": [
        "import torch\n",
        "import argparse\n",
        "from pathlib import Path\n",
        "from typing import List\n",
        "import pandas as pd\n",
        "from tqdm import tqdm"
      ],
      "execution_count": 3,
      "outputs": []
    },
    {
      "cell_type": "markdown",
      "metadata": {
        "id": "jk-Ec-qDUL4P"
      },
      "source": [
        "## Предсказываем"
      ]
    },
    {
      "cell_type": "code",
      "metadata": {
        "id": "3bG2aF3vURYq"
      },
      "source": [
        "def get_batches(images: List[Path], batch_size: int):\n",
        "    \"\"\"\n",
        "    Генерирует батч из путей в images\n",
        "    :param images: список путей к изображениям\n",
        "    :param batch_size: сколько путей возвращать за итерацию \n",
        "    \"\"\"\n",
        "    for i in range(0, len(images), batch_size):\n",
        "        yield images[i: i + batch_size]"
      ],
      "execution_count": 4,
      "outputs": []
    },
    {
      "cell_type": "code",
      "metadata": {
        "id": "iFRG42LLUSqn"
      },
      "source": [
        "def download_model(weights_path: Path):\n",
        "    \"\"\"\n",
        "    Загружает модель и настраевает параметры\n",
        "    :param weights_path: локальный путь к весам\n",
        "    :return: pytorch модель\n",
        "    \"\"\"\n",
        "    model = torch.hub.load('ultralytics/yolov5', 'custom', path=weights_path)\n",
        "    model.conf = 0.25  # NMS confidence threshold\n",
        "    model.iou = 0.45  # NMS IoU threshold\n",
        "    model.multi_label = True  # NMS multiple labels per box\n",
        "    model.max_det = 10  # maximum number of detections per image\n",
        "    return model"
      ],
      "execution_count": 5,
      "outputs": []
    },
    {
      "cell_type": "code",
      "metadata": {
        "id": "hOJpNWlsUUKI"
      },
      "source": [
        "def predict(images_dir: Path, weights_path: Path, batch_size: int = 20) -> None:\n",
        "    \"\"\"\n",
        "    Инференс по батчам картинок. Отделяет Принцессу от других тигров.\n",
        "    Сохраняет фото с bbox и csv-таблицу с результатами для подсчёта представленной организаторами метрики.\n",
        "\n",
        "    :param images_dir: папка с изображениями\n",
        "    :param weights_path: путь до файла с весами\n",
        "    :param batch_size: сколько изображений за раз обрабатывать\n",
        "    \"\"\"\n",
        "    model = download_model(weights_path)\n",
        "    images = list(images_dir.glob('*.jpg'))\n",
        "    print('Всего изображений:', len(images))\n",
        "    result = []\n",
        "    for batch in tqdm(get_batches(images=images, batch_size=batch_size)):\n",
        "        img_paths = batch[:]\n",
        "        output = model(batch, size=640)\n",
        "        output.save('/content/output/')\n",
        "        for img_path, img_output in zip(img_paths, output.xyxy):\n",
        "            try:\n",
        "                label = img_output.tolist()[0][-1]\n",
        "            except IndexError:\n",
        "                label = 0\n",
        "            result.append({'id': img_path.name, 'class': label})\n",
        "    result = pd.DataFrame(result)\n",
        "    result.to_csv('labels.csv', index=False)"
      ],
      "execution_count": 6,
      "outputs": []
    },
    {
      "cell_type": "code",
      "metadata": {
        "id": "fPWaaGipPnu9",
        "colab": {
          "base_uri": "https://localhost:8080/"
        },
        "outputId": "0720e3d4-114a-4ac7-b6e2-d63131e9d903"
      },
      "source": [
        "dir = '/content/sample/'\n",
        "weights = '/content/_princess30.pt'\n",
        "predict(images_dir=Path(dir), weights_path=Path(weights))"
      ],
      "execution_count": 7,
      "outputs": [
        {
          "output_type": "stream",
          "name": "stderr",
          "text": [
            "Downloading: \"https://github.com/ultralytics/yolov5/archive/master.zip\" to /root/.cache/torch/hub/master.zip\n"
          ]
        },
        {
          "output_type": "stream",
          "name": "stdout",
          "text": [
            "Downloading https://ultralytics.com/assets/Arial.ttf to /root/.config/Ultralytics/Arial.ttf...\n",
            "\u001b[31m\u001b[1mrequirements:\u001b[0m PyYAML>=5.3.1 not found and is required by YOLOv5, attempting auto-update...\n"
          ]
        },
        {
          "output_type": "stream",
          "name": "stderr",
          "text": [
            "YOLOv5 🚀 2021-12-2 torch 1.10.0+cu111 CUDA:0 (Tesla K80, 11441MiB)\n",
            "\n"
          ]
        },
        {
          "output_type": "stream",
          "name": "stdout",
          "text": [
            "Collecting PyYAML>=5.3.1\n",
            "  Downloading PyYAML-6.0-cp37-cp37m-manylinux_2_5_x86_64.manylinux1_x86_64.manylinux_2_12_x86_64.manylinux2010_x86_64.whl (596 kB)\n",
            "Installing collected packages: PyYAML\n",
            "  Attempting uninstall: PyYAML\n",
            "    Found existing installation: PyYAML 3.13\n",
            "    Uninstalling PyYAML-3.13:\n",
            "      Successfully uninstalled PyYAML-3.13\n",
            "Successfully installed PyYAML-6.0\n",
            "\n",
            "\u001b[31m\u001b[1mrequirements:\u001b[0m 1 package updated per /root/.cache/torch/hub/ultralytics_yolov5_master/requirements.txt\n",
            "\u001b[31m\u001b[1mrequirements:\u001b[0m ⚠️ \u001b[1mRestart runtime or rerun command for updates to take effect\u001b[0m\n",
            "\n"
          ]
        },
        {
          "output_type": "stream",
          "name": "stderr",
          "text": [
            "Fusing layers... \n",
            "Model Summary: 574 layers, 139980484 parameters, 0 gradients\n",
            "Adding AutoShape... \n"
          ]
        },
        {
          "output_type": "stream",
          "name": "stdout",
          "text": [
            "Всего изображений: 9\n"
          ]
        },
        {
          "output_type": "stream",
          "name": "stderr",
          "text": [
            "0it [00:00, ?it/s]Saved 9 images to \u001b[1m/content/output\u001b[0m\n",
            "1it [00:02,  2.79s/it]\n"
          ]
        }
      ]
    }
  ]
}
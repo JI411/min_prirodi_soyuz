{
  "nbformat": 4,
  "nbformat_minor": 0,
  "metadata": {
    "colab": {
      "name": "Копия блокнота \"PREDICT.ipynb\"",
      "provenance": [],
      "collapsed_sections": []
    },
    "kernelspec": {
      "name": "python3",
      "display_name": "Python 3"
    },
    "language_info": {
      "name": "python"
    },
    "accelerator": "GPU"
  },
  "cells": [
    {
      "cell_type": "markdown",
      "metadata": {
        "id": "TiDjCHLJWUmb"
      },
      "source": [
        "# МОДУЛИ"
      ]
    },
    {
      "cell_type": "code",
      "metadata": {
        "id": "q4smSWCDerbX"
      },
      "source": [
        "import os\n",
        "import time\n",
        "from pathlib import Path\n",
        "import pandas as pd\n",
        "import numpy as np\n",
        "from datetime import datetime\n",
        "import matplotlib.pyplot as plt\n",
        "\n",
        "from skimage.io import imread  # Чтение файла сразу в np массив, для варианта с обрезкой\n",
        "\n",
        "import tensorflow as tf\n",
        "from tensorflow.keras.preprocessing import image  # Для работы с изображениями \n",
        "from tensorflow.keras.models import Sequential\n",
        "from tensorflow.keras import layers\n",
        "from tensorflow.keras.applications import EfficientNetB7\n",
        "from keras.applications.imagenet_utils import decode_predictions  # Для декодирования лейблов\n"
      ],
      "execution_count": 1,
      "outputs": []
    },
    {
      "cell_type": "code",
      "metadata": {
        "id": "3one0qJKruS2"
      },
      "source": [
        "start_time = time.time()"
      ],
      "execution_count": 3,
      "outputs": []
    },
    {
      "cell_type": "code",
      "metadata": {
        "colab": {
          "base_uri": "https://localhost:8080/"
        },
        "id": "R_wzqKWHfKl8",
        "outputId": "a6c0adce-61ac-45a2-efa2-be8a9bee62f0"
      },
      "source": [
        "from google.colab import drive # Подключаем гугл-диск\n",
        "drive.mount('/content/drive')"
      ],
      "execution_count": 2,
      "outputs": [
        {
          "output_type": "stream",
          "name": "stdout",
          "text": [
            "Mounted at /content/drive\n"
          ]
        }
      ]
    },
    {
      "cell_type": "markdown",
      "metadata": {
        "id": "pvRKO5_oWaZK"
      },
      "source": [
        "# ЗАГРУЗКА МОДЕЛИ"
      ]
    },
    {
      "cell_type": "code",
      "metadata": {
        "id": "08TecEuDfGyc",
        "colab": {
          "base_uri": "https://localhost:8080/"
        },
        "outputId": "8a89ae7f-2631-4ad2-9106-f5bb1e5a45c6"
      },
      "source": [
        "model = EfficientNetB7(weights='imagenet')"
      ],
      "execution_count": 4,
      "outputs": [
        {
          "output_type": "stream",
          "name": "stdout",
          "text": [
            "Downloading data from https://storage.googleapis.com/keras-applications/efficientnetb7.h5\n",
            "268328960/268326632 [==============================] - 3s 0us/step\n",
            "268337152/268326632 [==============================] - 3s 0us/step\n"
          ]
        }
      ]
    },
    {
      "cell_type": "markdown",
      "metadata": {
        "id": "PME7ygRsmRQA"
      },
      "source": [
        "# НАСТРОЙКИ"
      ]
    },
    {
      "cell_type": "code",
      "metadata": {
        "id": "08XxArYomU6q"
      },
      "source": [
        "TEST_DIR = '/content/drive/MyDrive/Colab Notebooks/files/test'  # Тестовые данные\n",
        "MODEL_DIR = '/content/drive/MyDrive/Colab Notebooks/files/model'  # Модель\n",
        "IMG_SIZE = 600  # Размер изображения для нейросети\n",
        "BATCH_SIZE = 1\n",
        "THRESHOLD = 0.005"
      ],
      "execution_count": 5,
      "outputs": []
    },
    {
      "cell_type": "markdown",
      "metadata": {
        "id": "xpfmpW50vFTg"
      },
      "source": [
        "# ФУНКЦИИ"
      ]
    },
    {
      "cell_type": "markdown",
      "metadata": {
        "id": "PHSDLh8wmLVl"
      },
      "source": [
        "## Функция вывод изображений"
      ]
    },
    {
      "cell_type": "code",
      "metadata": {
        "id": "VVuzcdpkpAC2"
      },
      "source": [
        "# Функция вывода изображений\n",
        "def plot_image(img_np, title_list, row=4, col=5, size=5):\n",
        "  ''' Настройки вывода изображения\n",
        "  row = 4  # Строк\n",
        "  col = 5  # Колонок\n",
        "  size = 5  # Размер изображения, в дюймах\n",
        "  img_np - массив numpy\n",
        "  title_list - список заголовков\n",
        "  '''\n",
        "\n",
        "  fig, axs = plt.subplots(row, col, figsize=(col*size, row*size))  # Создаем полотно\n",
        "\n",
        "  for r in range(row):\n",
        "    for c in range(col):\n",
        "      num = r*col + c\n",
        "      axs[r, c].axis('off')\n",
        "      img = img_np[num]/255\n",
        "      axs[r, c].imshow(img)  # Отображаем фото\n",
        "      title = title_list[num] if len(title_list[num]) < 20 else title_list[num][:20] + '...'\n",
        "      axs[r, c].set_title(label=title, y=-0.1)  # Выводим заголовок, с у позицией"
      ],
      "execution_count": 6,
      "outputs": []
    },
    {
      "cell_type": "markdown",
      "metadata": {
        "id": "VdUytKM-wrtP"
      },
      "source": [
        "## Predict"
      ]
    },
    {
      "cell_type": "code",
      "metadata": {
        "id": "oQJeqNDmvIk1"
      },
      "source": [
        "def get_predict(file_name):\n",
        "  path = os.path.join(TEST_DIR , file_name)\n",
        "  data_list = []\n",
        "  img = image.load_img(\n",
        "    path = path, \n",
        "    color_mode='rgb', \n",
        "    target_size=(IMG_SIZE, IMG_SIZE),\n",
        "  )\n",
        "  np_img = image.img_to_array(img)\n",
        "  data_list.append(np_img)\n",
        "\n",
        "  x_data = np.array(data_list)\n",
        "\n",
        "  y = model.predict(x_data)\n",
        "  predict = decode_predictions(y, top=10)\n",
        "\n",
        "  for pred in predict:  # Проходим по изображениям\n",
        "    class_num = 3  # По умолчанию - ничего не найдено\n",
        "    for p in pred:  # Проходим по предсказаниям изображения (по умолчанию 5)\n",
        "      if p[1] == 'tiger' and p[2] > THRESHOLD:\n",
        "        class_num = 1\n",
        "        break \n",
        "      if p[1] == 'leopard' and p[2] > THRESHOLD:\n",
        "        class_num = 2\n",
        "        break\n",
        "\n",
        "  return class_num\n"
      ],
      "execution_count": 7,
      "outputs": []
    },
    {
      "cell_type": "markdown",
      "metadata": {
        "id": "ajzAVYJ1myJL"
      },
      "source": [
        "# ДАННЫЕ"
      ]
    },
    {
      "cell_type": "code",
      "metadata": {
        "colab": {
          "base_uri": "https://localhost:8080/"
        },
        "id": "es1VPQSxrgiH",
        "outputId": "f1a38b47-7870-4672-b7b5-1b49009e5991"
      },
      "source": [
        "files_list = os.listdir(TEST_DIR)\n",
        "images_list = list(filter(lambda x: x.endswith('.jpg'), files_list))\n",
        "print('Всего изображений:', len(images_list))\n"
      ],
      "execution_count": 8,
      "outputs": [
        {
          "output_type": "stream",
          "name": "stdout",
          "text": [
            "Всего изображений: 546\n"
          ]
        }
      ]
    },
    {
      "cell_type": "code",
      "metadata": {
        "id": "vGr-w67yrgjx",
        "colab": {
          "base_uri": "https://localhost:8080/"
        },
        "outputId": "0db767be-db3c-4443-ddbb-e0d91964cd6d"
      },
      "source": [
        "predict_list = []\n",
        "i = 0\n",
        "for file_name in images_list:\n",
        "  class_num = get_predict(file_name)\n",
        "  predict_list.append([file_name, class_num])\n",
        "  if (i) % 10 == 0:\n",
        "    print(f'{i}, {round(time.time() - start_time)}c')\n",
        "  i += 1\n",
        "\n",
        "print(predict_list)"
      ],
      "execution_count": 9,
      "outputs": [
        {
          "output_type": "stream",
          "name": "stdout",
          "text": [
            "Downloading data from https://storage.googleapis.com/download.tensorflow.org/data/imagenet_class_index.json\n",
            "40960/35363 [==================================] - 0s 0us/step\n",
            "49152/35363 [=========================================] - 0s 0us/step\n",
            "0, 98c\n",
            "10, 103c\n",
            "20, 109c\n",
            "30, 114c\n",
            "40, 119c\n",
            "50, 125c\n",
            "60, 130c\n",
            "70, 135c\n",
            "80, 140c\n",
            "90, 146c\n",
            "100, 151c\n",
            "110, 156c\n",
            "120, 161c\n",
            "130, 166c\n",
            "140, 171c\n",
            "150, 176c\n",
            "160, 181c\n",
            "170, 186c\n",
            "180, 192c\n",
            "190, 197c\n",
            "200, 202c\n",
            "210, 208c\n",
            "220, 213c\n",
            "230, 218c\n",
            "240, 224c\n",
            "250, 229c\n",
            "260, 234c\n",
            "270, 240c\n",
            "280, 245c\n",
            "290, 250c\n",
            "300, 256c\n",
            "310, 261c\n",
            "320, 266c\n",
            "330, 271c\n",
            "340, 275c\n",
            "350, 281c\n",
            "360, 286c\n",
            "370, 291c\n",
            "380, 296c\n",
            "390, 301c\n",
            "400, 306c\n",
            "410, 311c\n",
            "420, 317c\n",
            "430, 322c\n",
            "440, 327c\n",
            "450, 332c\n",
            "460, 338c\n",
            "470, 344c\n",
            "480, 349c\n",
            "490, 356c\n",
            "500, 363c\n",
            "510, 369c\n",
            "520, 376c\n",
            "530, 383c\n",
            "540, 389c\n",
            "[['001_95.jpg', 1], ['8_IMAG0123_S02.jpg', 2], ['001_93.jpg', 1], ['001_90.jpg', 3], ['001_92.jpg', 1], ['001_9.jpg', 1], ['7_IMAG1444_S07.jpg', 3], ['001_87.jpg', 1], ['001_89.jpg', 3], ['001_86.jpg', 1], ['001_84.jpg', 3], ['001_764.jpg', 3], ['7_IMAG1263_S10.jpg', 3], ['10_IMAG0022_S02.jpg', 1], ['109_IMG_0369_S02.jpg', 3], ['10_IMAG0125_S02.jpg', 2], ['109_IMG_0367_S02.jpg', 3], ['109_IMG_0368_S02.jpg', 3], ['109_IMG_0366_S02.jpg', 3], ['10_D1904079_S12.jpg', 3], ['109_IMG_0365_S02.jpg', 3], ['109_IMG_0364_S02.jpg', 3], ['109_IMG_0354_S02.jpg', 2], ['109_IMG_0349_S02.jpg', 3], ['109_IMG_0352_S02.jpg', 3], ['109_IMG_0353_S02.jpg', 3], ['109_IMG_0351_S02.jpg', 2], ['109_IMG_0338_S02.jpg', 2], ['109_IMG_0336_S02.jpg', 3], ['109_IMG_0335_S02.jpg', 3], ['109_IMG_0334_S02.jpg', 3], ['109_IMG_0333_S02.jpg', 3], ['109_IMG_0323_S02.jpg', 2], ['109_IMAG0315_S02.jpg', 2], ['109_IMG_0321_S02.jpg', 2], ['109_IMG_0318_S02.jpg', 2], ['109_IMAG0314_S02.jpg', 2], ['109_IMG_0320_S02.jpg', 2], ['109_IMG_0308_S02.jpg', 3], ['109_IMG_0291_S02.jpg', 2], ['109_IMG_0294_S02.jpg', 2], ['109_IMG_0293_S02.jpg', 2], ['109_IMG_0292_S02.jpg', 2], ['108_IMG_0180_S02.jpg', 2], ['109_IMAG0312_S02.jpg', 2], ['108_IMG_0179_S02.jpg', 2], ['108_IMG_0152_S02.jpg', 2], ['108_IMG_0178_S02.jpg', 2], ['108_IMG_0149_S02.jpg', 2], ['108_IMG_0150_S02.jpg', 2], ['108_IMG_0151_S02.jpg', 2], ['108_IMG_0148_S02.jpg', 2], ['108_IMG_0128_S02.jpg', 2], ['108_IMG_0126_S02.jpg', 2], ['108_IMG_0127_S02.jpg', 2], ['108_IMG_0125_S02.jpg', 2], ['108_IMG_0123_S02.jpg', 2], ['108_IMG_0124_S02.jpg', 2], ['100_IMAG0994_S02.jpg', 2], ['100_IMAG0993_S02.jpg', 2], ['01_IMG_0026_S02.jpg', 2], ['01_IMG_0027_S02.jpg', 2], ['01_IMG_0025_S02.jpg', 2], ['01_IMG_0022_S02.jpg', 2], ['01_02050833_S02.jpg', 3], ['01_IMG_0023_S02.jpg', 2], ['01_IMG_0024_S02.jpg', 2], ['01_02050832_S02.jpg', 2], ['01_02050828_S02.jpg', 2], ['01_02050830_S02.jpg', 2], ['01_02050831_S02.jpg', 2], ['01_02050827_S02.jpg', 2], ['01_02050826_S02.jpg', 2], ['01_02050823_S02.jpg', 2], ['01_02050825_S02.jpg', 2], ['01_02050822_S02.jpg', 2], ['01_02050820_S02.jpg', 2], ['01_02050821_S02.jpg', 2], ['001_99.jpg', 3], ['001_98.jpg', 3], ['01_02050818_S02.jpg', 2], ['001_96.jpg', 1], ['8_IMAG0124_S02.jpg', 2], ['114_IMG_0202_S02.jpg', 2], ['10_PICT0764_S10.jpg', 3], ['111_IMAG1527_S02.jpg', 2], ['10_PICT0763_S10.jpg', 3], ['113_IMG_0247_S02.jpg', 2], ['113_IMG_0248_S02.jpg', 3], ['10_PICT0820_S10.jpg', 3], ['113_IMG_0631_S02.jpg', 2], ['10_PICT0818_S10.jpg', 3], ['10_PICT0819_S10.jpg', 3], ['10_PICT0817_S10.jpg', 3], ['10_PICT0639_S10.jpg', 3], ['10_PICT0642_S10.jpg', 3], ['10_PICT0638_S10.jpg', 3], ['10_PICT0635_S10.jpg', 3], ['10_PICT0637_S10.jpg', 3], ['10_PICT0629_S10.jpg', 3], ['10_PICT0636_S10.jpg', 3], ['10_PICT0621_S10.jpg', 3], ['10_PICT0634_S10.jpg', 3], ['10_PICT0620_S10.jpg', 3], ['10_IMG_0214_S10.jpg', 3], ['10_IMG_0202_S10.jpg', 3], ['10_IMG_0156_S08.jpg', 3], ['10_IMG_0155_S08.jpg', 3], ['10_IMG_0197_S10.jpg', 3], ['10_IMG_0213_S10.jpg', 3], ['10_IMG_0196_S10.jpg', 3], ['10_IMG_0211_S10.jpg', 3], ['10_IMG_0212_S10.jpg', 3], ['10_IMG_0190_S10.jpg', 3], ['10_IMAG0126_S02.jpg', 2], ['10_IMAG0189_S08.jpg', 3], ['10_IMG_0150_S02.jpg', 2], ['10_IMG_0121_S08.jpg', 3], ['10_IMG_0154_S08.jpg', 3], ['10_IMG_0153_S08.jpg', 3], ['10_IMG_0117_S02.jpg', 2], ['10_IMG_0116_S02.jpg', 2], ['10_IMAG0137_S02.jpg', 2], ['10_IMG_0003_S02.jpg', 2], ['114_IMG_0343_S02.jpg', 2], ['114_IMG_0341_S02.jpg', 2], ['114_IMG_0340_S02.jpg', 2], ['114_IMG_0342_S02.jpg', 2], ['114_IMG_0328_S02.jpg', 2], ['114_IMG_0327_S02.jpg', 2], ['114_IMG_0339_S02.jpg', 2], ['114_IMG_0326_S02.jpg', 2], ['114_IMG_0323_S02.jpg', 2], ['114_IMG_0325_S02.jpg', 2], ['114_IMG_0324_S02.jpg', 2], ['114_IMG_0313_S02.jpg', 2], ['114_IMG_0312_S02.jpg', 2], ['114_IMG_0311_S02.jpg', 2], ['114_IMG_0298_S02.jpg', 2], ['114_IMG_0297_S02.jpg', 2], ['114_IMG_0308_S02.jpg', 2], ['114_IMG_0296_S02.jpg', 2], ['114_IMG_0295_S02.jpg', 2], ['114_IMG_0282_S02.jpg', 2], ['114_IMG_0283_S02.jpg', 2], ['114_IMG_0293_S02.jpg', 2], ['114_IMG_0281_S02.jpg', 2], ['114_IMG_0280_S02.jpg', 2], ['114_IMG_0279_S02.jpg', 2], ['114_IMG_0278_S02.jpg', 2], ['114_IMG_0268_S02.jpg', 2], ['114_IMG_0267_S02.jpg', 2], ['114_IMG_0266_S02.jpg', 2], ['114_IMG_0264_S02.jpg', 2], ['114_IMG_0265_S02.jpg', 2], ['114_IMG_0263_S02.jpg', 2], ['114_IMG_0253_S02.jpg', 2], ['114_IMG_0251_S02.jpg', 2], ['114_IMG_0250_S02.jpg', 2], ['114_IMG_0248_S02.jpg', 2], ['114_IMG_0249_S02.jpg', 2], ['114_IMG_0232_S02.jpg', 2], ['114_IMAG0765_S02.jpg', 2], ['114_IMG_0218_S02.jpg', 2], ['114_IMG_0219_S02.jpg', 2], ['114_IMG_0231_S02.jpg', 2], ['114_IMG_0221_S02.jpg', 2], ['114_IMG_0220_S02.jpg', 2], ['114_IMG_0217_S02.jpg', 2], ['114_IMG_0216_S02.jpg', 2], ['114_IMG_0203_S02.jpg', 2], ['001_10.jpg', 1], ['001_101.jpg', 3], ['001_1.jpg', 1], ['001_102.jpg', 3], ['001_103.jpg', 3], ['001_104.jpg', 3], ['001_106.jpg', 1], ['001_108.jpg', 1], ['001_111.jpg', 1], ['001_113.jpg', 1], ['001_115.jpg', 1], ['001_116.jpg', 1], ['001_12.jpg', 1], ['001_120.jpg', 1], ['001_123.jpg', 1], ['001_124.jpg', 1], ['001_127.jpg', 3], ['001_128.jpg', 1], ['001_13.jpg', 1], ['001_130.jpg', 1], ['001_132.jpg', 1], ['001_135.jpg', 1], ['001_136.jpg', 1], ['001_138.jpg', 1], ['001_140.jpg', 1], ['001_142.jpg', 1], ['001_141.jpg', 1], ['001_143.jpg', 1], ['001_145.jpg', 1], ['001_144.jpg', 1], ['001_146.jpg', 1], ['001_147.jpg', 1], ['001_15.jpg', 1], ['001_154.jpg', 1], ['001_157.jpg', 1], ['001_155.jpg', 1], ['001_158.jpg', 1], ['001_159.jpg', 1], ['001_16.jpg', 1], ['001_161.jpg', 1], ['001_160.jpg', 1], ['001_165.jpg', 1], ['001_166.jpg', 1], ['001_168.jpg', 1], ['001_167.jpg', 1], ['001_169.jpg', 1], ['001_172.jpg', 1], ['001_176.jpg', 3], ['001_175.jpg', 1], ['001_178.jpg', 1], ['001_177.jpg', 1], ['001_179.jpg', 1], ['001_182.jpg', 1], ['001_183.jpg', 1], ['001_184.jpg', 1], ['001_186.jpg', 1], ['001_187.jpg', 1], ['001_188.jpg', 1], ['001_19.jpg', 1], ['001_189.jpg', 3], ['001_191.jpg', 1], ['001_192.jpg', 1], ['001_196.jpg', 3], ['001_199.jpg', 1], ['001_198.jpg', 3], ['001_200.jpg', 1], ['001_202.jpg', 1], ['001_206.jpg', 1], ['001_209.jpg', 1], ['001_212.jpg', 1], ['001_211.jpg', 1], ['001_213.jpg', 1], ['001_214.jpg', 1], ['001_216.jpg', 1], ['001_217.jpg', 1], ['001_22.jpg', 1], ['001_220.jpg', 1], ['001_222.jpg', 1], ['001_223.jpg', 1], ['001_224.jpg', 1], ['001_225.jpg', 1], ['001_227.jpg', 1], ['001_228.jpg', 1], ['001_230.jpg', 1], ['001_229.jpg', 1], ['001_23.jpg', 1], ['001_234.jpg', 1], ['001_233.jpg', 1], ['001_236.jpg', 3], ['001_235.jpg', 1], ['001_238.jpg', 3], ['001_237.jpg', 3], ['001_239.jpg', 1], ['001_24.jpg', 1], ['001_242.jpg', 1], ['001_245.jpg', 3], ['001_243.jpg', 1], ['001_248.jpg', 3], ['001_255.jpg', 1], ['001_249.jpg', 3], ['001_258.jpg', 1], ['001_257.jpg', 1], ['001_270.jpg', 1], ['001_269.jpg', 1], ['001_276.jpg', 1], ['001_273.jpg', 1], ['001_252.jpg', 3], ['001_262.jpg', 1], ['001_264.jpg', 1], ['001_254.jpg', 3], ['001_265.jpg', 1], ['001_272.jpg', 1], ['001_27.jpg', 1], ['001_253.jpg', 3], ['001_271.jpg', 1], ['001_277.jpg', 1], ['001_281.jpg', 1], ['001_291.jpg', 1], ['001_30.jpg', 1], ['001_295.jpg', 1], ['001_279.jpg', 1], ['001_300.jpg', 1], ['001_298.jpg', 3], ['001_283.jpg', 1], ['001_28.jpg', 1], ['001_293.jpg', 1], ['001_285.jpg', 3], ['001_296.jpg', 1], ['001_287.jpg', 1], ['001_301.jpg', 1], ['001_303.jpg', 1], ['001_280.jpg', 1], ['001_304.jpg', 1], ['001_313.jpg', 1], ['001_314.jpg', 1], ['001_332.jpg', 1], ['001_330.jpg', 1], ['001_319.jpg', 1], ['001_320.jpg', 1], ['001_325.jpg', 1], ['001_311.jpg', 3], ['001_322.jpg', 1], ['001_321.jpg', 1], ['001_307.jpg', 1], ['001_309.jpg', 1], ['001_324.jpg', 1], ['001_31.jpg', 3], ['001_310.jpg', 1], ['001_33.jpg', 1], ['001_328.jpg', 1], ['001_326.jpg', 1], ['001_334.jpg', 1], ['001_329.jpg', 1], ['001_331.jpg', 1], ['001_333.jpg', 1], ['001_368.jpg', 1], ['001_342.jpg', 1], ['001_357.jpg', 1], ['001_344.jpg', 1], ['001_341.jpg', 1], ['001_360.jpg', 1], ['001_365.jpg', 1], ['001_353.jpg', 1], ['001_34.jpg', 1], ['001_369.jpg', 1], ['001_347.jpg', 1], ['001_37.jpg', 3], ['001_348.jpg', 1], ['001_364.jpg', 1], ['001_338.jpg', 1], ['001_362.jpg', 1], ['001_352.jpg', 1], ['001_35.jpg', 1], ['001_345.jpg', 1], ['001_359.jpg', 1], ['001_39.jpg', 1], ['001_390.jpg', 1], ['001_379.jpg', 1], ['001_375.jpg', 1], ['001_378.jpg', 3], ['001_376.jpg', 1], ['001_372.jpg', 1], ['001_370.jpg', 1], ['001_373.jpg', 1], ['001_383.jpg', 1], ['001_387.jpg', 1], ['001_385.jpg', 1], ['001_386.jpg', 1], ['001_388.jpg', 1], ['001_392.jpg', 1], ['001_381.jpg', 1], ['001_374.jpg', 1], ['001_389.jpg', 1], ['001_382.jpg', 1], ['001_377.jpg', 1], ['001_405.jpg', 1], ['001_419.jpg', 1], ['001_395.jpg', 1], ['001_418.jpg', 1], ['001_409.jpg', 1], ['001_408.jpg', 1], ['001_406.jpg', 1], ['001_400.jpg', 1], ['001_4.jpg', 3], ['001_40.jpg', 1], ['001_416.jpg', 1], ['001_401.jpg', 1], ['001_404.jpg', 1], ['001_422.jpg', 1], ['001_396.jpg', 1], ['001_413.jpg', 1], ['001_417.jpg', 1], ['001_394.jpg', 3], ['001_402.jpg', 1], ['001_399.jpg', 1], ['001_410.jpg', 1], ['001_411.jpg', 1], ['001_440.jpg', 3], ['001_429.jpg', 1], ['001_437.jpg', 1], ['001_433.jpg', 1], ['001_44.jpg', 1], ['001_442.jpg', 3], ['001_436.jpg', 1], ['001_43.jpg', 1], ['001_443.jpg', 1], ['001_424.jpg', 1], ['001_428.jpg', 1], ['001_441.jpg', 1], ['001_432.jpg', 1], ['001_423.jpg', 1], ['001_445.jpg', 1], ['001_449.jpg', 1], ['001_448.jpg', 1], ['001_461.jpg', 1], ['001_456.jpg', 1], ['001_454.jpg', 1], ['001_447.jpg', 1], ['001_455.jpg', 3], ['001_457.jpg', 1], ['001_451.jpg', 1], ['001_465.jpg', 1], ['001_475.jpg', 1], ['001_462.jpg', 1], ['001_466.jpg', 1], ['001_471.jpg', 1], ['001_470.jpg', 3], ['001_468.jpg', 1], ['001_472.jpg', 1], ['001_47.jpg', 1], ['001_463.jpg', 3], ['001_469.jpg', 1], ['001_464.jpg', 1], ['001_476.jpg', 1], ['001_5.jpg', 1], ['001_51.jpg', 1], ['001_53.jpg', 1], ['001_52.jpg', 3], ['001_59.jpg', 1], ['001_58.jpg', 1], ['001_60.jpg', 1], ['001_61.jpg', 1], ['001_63.jpg', 1], ['001_66.jpg', 1], ['001_64.jpg', 1], ['001_65.jpg', 1], ['001_67.jpg', 1], ['001_69.jpg', 1], ['001_68.jpg', 1], ['001_7.jpg', 1], ['001_70.jpg', 3], ['001_72.jpg', 1], ['001_73.jpg', 1], ['001_75.jpg', 3], ['108_IMAG0928_S02.jpg', 2], ['100_IMAG0152_S02.jpg', 2], ['108_IMAG0944_S02.jpg', 2], ['108_IMAG1761_S02.jpg', 2], ['108_IMAG0945_S02.jpg', 2], ['108_IMAG0947_S02.jpg', 2], ['108_IMAG1763_S02.jpg', 2], ['108_IMAG0948_S02.jpg', 2], ['108_IMAG0949_S02.jpg', 2], ['108_IMAG1762_S02.jpg', 2], ['108_IMAG1760_S02.jpg', 2], ['108_IMAG1764_S02.jpg', 2], ['109_IMAG0095_S02.jpg', 2], ['111_IMAG0015_S02.jpg', 2], ['111_IMAG0014_S02.jpg', 2], ['111_IMAG0013_S02.jpg', 2], ['111_IMAG1487_S02.jpg', 2], ['111_IMAG1486_S02.jpg', 2], ['111_IMAG0016_S02.jpg', 2], ['111_IMAG0892_S02.jpg', 2], ['111_IMAG1488_S02.jpg', 2], ['111_IMAG0891_S02.jpg', 2], ['111_IMAG1489_S02.jpg', 2], ['113_IMAG0901_S02.jpg', 2], ['111_IMAG1490_S02.jpg', 2], ['114_IMG_0354_S02.jpg', 2], ['114_IMG_0356_S02.jpg', 2], ['114_IMG_0353_S02.jpg', 2], ['114_IMG_0355_S02.jpg', 2], ['114_IMG_0373_S02.jpg', 2], ['114_IMG_0370_S02.jpg', 2], ['114_IMG_0374_S02.jpg', 2], ['114_IMG_0371_S02.jpg', 1], ['114_IMG_0358_S02.jpg', 2], ['114_IMG_0357_S02.jpg', 2], ['114_IMG_0368_S02.jpg', 2], ['114_IMG_0369_S02.jpg', 2], ['13_IMAG0010_S02.jpg', 2], ['19_03200011_S02.jpg', 2], ['20_IMAG0136_S02.jpg', 2], ['25_IMAG0100_S02.jpg', 2], ['25_IMAG0099_S02.jpg', 2], ['25_IMAG0101_S02.jpg', 2], ['25_IMAG0102_S02.jpg', 2], ['29_IMAG0764_S02.jpg', 2], ['27_IMAG0065_S02.jpg', 2], ['44_05120699_S02.jpg', 2], ['45_04090023_S02.jpg', 2], ['45_04090025_S02.jpg', 2], ['4_IMAG0002_S02.jpg', 2], ['7_IMAG0197_S02.jpg', 2], ['7_03170007_S02.jpg', 2], ['7_03170006_S02.jpg', 2], ['7_IMAG0198_S02.jpg', 2], ['7_IMAG1183_S02.jpg', 2], ['14_EK000782_S07.jpg', 3], ['14_EK000777_S07.jpg', 3], ['14_EK000776_S07.jpg', 3], ['14_EK000781_S07.jpg', 3], ['14_EK000790_S07.jpg', 3], ['14_EK000783_S07.jpg', 3], ['14_EK000787_S07.jpg', 3], ['14_EK000795_S07.jpg', 3], ['14_EK000788_S07.jpg', 3], ['14_EK000785_S07.jpg', 3], ['14_EK000794_S07.jpg', 3], ['14_EK000792_S07.jpg', 3], ['14_EK000793_S07.jpg', 3], ['14_EK000804_S07.jpg', 3], ['14_EK000799_S07.jpg', 3], ['14_EK000806_S07.jpg', 3], ['14_EK000801_S07.jpg', 3], ['14_EK000807_S07.jpg', 3], ['14_EK000796_S07.jpg', 3], ['14_EK000797_S07.jpg', 3], ['14_EK000802_S07.jpg', 3], ['16_IMAG0183_S07.jpg', 3], ['16_IMAG0182_S07.jpg', 3], ['16_IMAG0181_S07.jpg', 3], ['16_IMAG0187_S07.jpg', 3], ['16_IMAG0188_S07.jpg', 3], ['16_IMAG0189_S07.jpg', 3], ['4_IMAG3034_S12.jpg', 3], ['5_IMAG0410_S07.jpg', 3], ['5_IMAG0411_S07.jpg', 3], ['7_06270002_S10.jpg', 3], ['7_IMAG0851_S10.jpg', 3], ['001_112.jpg', 1], ['001_203.jpg', 1], ['001_294.jpg', 1], ['001_306.jpg', 1], ['001_444.jpg', 3], ['001_240.jpg', 1], ['001_42.jpg', 1], ['001_226.jpg', 1], ['001_407.jpg', 1], ['001_25.jpg', 1], ['001_266.jpg', 1], ['001_6.jpg', 1], ['001_36.jpg', 1], ['001_267.jpg', 1]]\n"
          ]
        }
      ]
    },
    {
      "cell_type": "code",
      "metadata": {
        "id": "W6TQNjiQEWUD",
        "colab": {
          "base_uri": "https://localhost:8080/",
          "height": 223
        },
        "outputId": "67568b68-47e6-4db8-f894-34d19043a37c"
      },
      "source": [
        "df = pd.DataFrame(predict_list)\n",
        "print(df.shape)\n",
        "df.head()"
      ],
      "execution_count": null,
      "outputs": [
        {
          "output_type": "stream",
          "name": "stdout",
          "text": [
            "(1000, 2)\n"
          ]
        },
        {
          "output_type": "execute_result",
          "data": {
            "text/html": [
              "<div>\n",
              "<style scoped>\n",
              "    .dataframe tbody tr th:only-of-type {\n",
              "        vertical-align: middle;\n",
              "    }\n",
              "\n",
              "    .dataframe tbody tr th {\n",
              "        vertical-align: top;\n",
              "    }\n",
              "\n",
              "    .dataframe thead th {\n",
              "        text-align: right;\n",
              "    }\n",
              "</style>\n",
              "<table border=\"1\" class=\"dataframe\">\n",
              "  <thead>\n",
              "    <tr style=\"text-align: right;\">\n",
              "      <th></th>\n",
              "      <th>0</th>\n",
              "      <th>1</th>\n",
              "    </tr>\n",
              "  </thead>\n",
              "  <tbody>\n",
              "    <tr>\n",
              "      <th>0</th>\n",
              "      <td>001_102.jpg</td>\n",
              "      <td>3</td>\n",
              "    </tr>\n",
              "    <tr>\n",
              "      <th>1</th>\n",
              "      <td>001_103.jpg</td>\n",
              "      <td>3</td>\n",
              "    </tr>\n",
              "    <tr>\n",
              "      <th>2</th>\n",
              "      <td>001_104.jpg</td>\n",
              "      <td>3</td>\n",
              "    </tr>\n",
              "    <tr>\n",
              "      <th>3</th>\n",
              "      <td>001_106.jpg</td>\n",
              "      <td>1</td>\n",
              "    </tr>\n",
              "    <tr>\n",
              "      <th>4</th>\n",
              "      <td>001_108.jpg</td>\n",
              "      <td>1</td>\n",
              "    </tr>\n",
              "  </tbody>\n",
              "</table>\n",
              "</div>"
            ],
            "text/plain": [
              "             0  1\n",
              "0  001_102.jpg  3\n",
              "1  001_103.jpg  3\n",
              "2  001_104.jpg  3\n",
              "3  001_106.jpg  1\n",
              "4  001_108.jpg  1"
            ]
          },
          "metadata": {},
          "execution_count": 10
        }
      ]
    },
    {
      "cell_type": "code",
      "metadata": {
        "id": "oq5JmEJJEdai"
      },
      "source": [
        "df.to_csv(TEST_DIR+'/RESULT_3.csv', sep=',', encoding='utf-8', index=False, header=False)"
      ],
      "execution_count": null,
      "outputs": []
    },
    {
      "cell_type": "code",
      "metadata": {
        "colab": {
          "base_uri": "https://localhost:8080/"
        },
        "id": "VH554cvsQZYq",
        "outputId": "e3a20005-95d8-4fb6-a9b0-bc84cec78f98"
      },
      "source": [
        "print(f'Время выполнения: {round(time.time() - start_time)}c')"
      ],
      "execution_count": null,
      "outputs": [
        {
          "output_type": "stream",
          "name": "stdout",
          "text": [
            "Время выполнения: 580c\n"
          ]
        }
      ]
    }
  ]
}